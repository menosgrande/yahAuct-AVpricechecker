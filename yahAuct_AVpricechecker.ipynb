{
  "nbformat": 4,
  "nbformat_minor": 0,
  "metadata": {
    "colab": {
      "name": "yahAuct-AVpricechecker.ipynb",
      "provenance": [],
      "collapsed_sections": [],
      "authorship_tag": "ABX9TyMquQao0TBZMuK3YHd7P/H/",
      "include_colab_link": true
    },
    "kernelspec": {
      "name": "python3",
      "display_name": "Python 3"
    },
    "language_info": {
      "name": "python"
    }
  },
  "cells": [
    {
      "cell_type": "markdown",
      "metadata": {
        "id": "view-in-github",
        "colab_type": "text"
      },
      "source": [
        "<a href=\"https://colab.research.google.com/github/menosgrande/yahAuct-AVpricechecker/blob/main/yahAuct_AVpricechecker.ipynb\" target=\"_parent\"><img src=\"https://colab.research.google.com/assets/colab-badge.svg\" alt=\"Open In Colab\"/></a>"
      ]
    },
    {
      "cell_type": "code",
      "metadata": {
        "id": "gX1g0rmZReIQ"
      },
      "source": [
        "import requests\n",
        "from bs4 import BeautifulSoup\n",
        "import pandas as pd"
      ],
      "execution_count": null,
      "outputs": []
    },
    {
      "cell_type": "code",
      "metadata": {
        "id": "vmLqghpFzrEo"
      },
      "source": [
        "url_site = 'https://erocate.com/search1/q-'\n",
        "url_mode = '/s-ya/c-ya_2084045794/?o=t1&vmode=1'\n",
        "\n",
        "headers = {\"User-Agent\": \"Mozilla/5.0 (X11; Linux x86_64; rv:61.0) Gecko/20100101 Firefox/61.0\"}\n",
        "cookie = {'adultauthed': '1617782919'}  #クッキーの指定(年齢認証解除)\n",
        "\n",
        "#LINE送信  \n",
        "LINE_url = \"https://notify-api.line.me/api/notify\"\n",
        "api_token = \"wzq0M8MdrUrAqqGAcF5GYVDMdy1hM632xnOkaKQnfL4\"\n",
        "line_headers = {\"Authorization\": \"Bearer \" + api_token}"
      ],
      "execution_count": null,
      "outputs": []
    },
    {
      "cell_type": "code",
      "metadata": {
        "id": "2rifXNzQzF9O"
      },
      "source": [
        "search_word = input().replace(\" \",\"%20\").replace(\"　\",\"%E3%80%80\")# 検索ワード入力\n",
        "\n",
        "response = requests.get(url=url, headers=headers, cookies=cookie)\n",
        "html = response.text\n",
        "soup = BeautifulSoup(html,'lxml') #BeautifulSoupで扱えるようにパースします\n",
        "\n",
        "url_title = soup.title.string #URLタイトル\n",
        "mean_price = soup.find(id = 'mean_price')\n",
        "mean_price_word = \"平均:\" + mean_price.text + \"円\" #全体平均\n",
        "\n",
        "print(url_title + '\\n' + url + '\\n'+ mean_price_word)"
      ],
      "execution_count": null,
      "outputs": []
    },
    {
      "cell_type": "code",
      "metadata": {
        "id": "LXNzdLPWzDR2"
      },
      "source": [
        "right_content = soup.find(id = 'right_contents') #右カラムから値段と作品タイトル取得\n",
        "\n",
        "item_title_list = []#作品値段リスト\n",
        "for item_title in right_content.find_all(class_ = \"item_title\"):\n",
        "   item_title_strip = item_title.text.strip()\n",
        "   item_title_list.append(item_title_strip)\n",
        "\n",
        "item_price_list = []#作品値段リスト\n",
        "for item_price in right_content.find_all(class_ = \"item_price\"):\n",
        "   item_price_strip = chr(92) + item_price.text.strip().replace(' 円', '')\n",
        "   item_price_list.append(item_price_strip)"
      ],
      "execution_count": null,
      "outputs": []
    },
    {
      "cell_type": "code",
      "metadata": {
        "id": "2sWe_nByy99C"
      },
      "source": [
        "test_list = [];#商品リスト\n",
        "for i, p in enumerate(item_price_list):\n",
        "    test_list.append({\n",
        "        \"価格\": p,\n",
        "        \"タイトル\": item_title_list[i],\n",
        "    });\n",
        "\n",
        "df = pd.DataFrame(data = test_list)#表にする\n",
        "css = {\n",
        "       \"background-color\": \"green\",\n",
        "       \"text-align\": \"right\"\n",
        "      }\n",
        "display(df.style.set_properties(subset=\"価格\", **css))"
      ],
      "execution_count": null,
      "outputs": []
    },
    {
      "cell_type": "code",
      "metadata": {
        "id": "Z7nQipUAy3_v"
      },
      "source": [
        "message = search_word +'は' + mean_price_word + '\\n' + url\n",
        "payload = {'message': message}\n",
        "r = requests.post(LINE_url, headers=line_headers, params=payload)"
      ],
      "execution_count": null,
      "outputs": []
    }
  ]
}