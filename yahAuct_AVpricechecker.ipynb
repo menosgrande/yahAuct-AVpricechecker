{
  "nbformat": 4,
  "nbformat_minor": 0,
  "metadata": {
    "colab": {
      "name": "yahAuct-AVpricechecker.ipynb",
      "provenance": [],
      "collapsed_sections": [],
      "authorship_tag": "ABX9TyOabMNb2pe0DrJzK13+7yDj",
      "include_colab_link": true
    },
    "kernelspec": {
      "name": "python3",
      "display_name": "Python 3"
    },
    "language_info": {
      "name": "python"
    }
  },
  "cells": [
    {
      "cell_type": "markdown",
      "metadata": {
        "id": "view-in-github",
        "colab_type": "text"
      },
      "source": [
        "<a href=\"https://colab.research.google.com/github/menosgrande/yahAuct-AVpricechecker/blob/main/yahAuct_AVpricechecker.ipynb\" target=\"_parent\"><img src=\"https://colab.research.google.com/assets/colab-badge.svg\" alt=\"Open In Colab\"/></a>"
      ]
    },
    {
      "cell_type": "code",
      "metadata": {
        "id": "gX1g0rmZReIQ"
      },
      "source": [
        "import requests\n",
        "from bs4 import BeautifulSoup\n",
        "import pandas as pd"
      ],
      "execution_count": null,
      "outputs": []
    },
    {
      "cell_type": "code",
      "metadata": {
        "id": "2rifXNzQzF9O"
      },
      "source": [
        "# 検索ワード入力\n",
        "print('入力してください')\n",
        "search_word = input().replace(\" \",\"%20\").replace(\"　\",\"%E3%80%80\")\n",
        "# URLの指定        \n",
        "url = 'https://erocate.com/search1/q-' + search_word + '/s-ya/c-ya_2084045794/?o=t1&vmode=1'\n",
        "print(url)\n",
        "#ユーザーエージェントの設定（設定必須）\n",
        "headers = {\"User-Agent\": \"Mozilla/5.0 (X11; Linux x86_64; rv:61.0) Gecko/20100101 Firefox/61.0\"}\n",
        "# ここでcookieを指定\n",
        "cookie = {'adultauthed': '1617782919'}  #クッキーの指定\n",
        "#htmlの取得\n",
        "response = requests.get(url=url, headers=headers, cookies=cookie)\n",
        "html = response.text\n",
        "#BeautifulSoupで扱えるようにパースします\n",
        "soup = BeautifulSoup(html,'lxml')\n",
        "#URLタイトル\n",
        "url_title = soup.title.string\n",
        "print(url_title)\n",
        "#全体平均\n",
        "mean_price = soup.find(id = 'mean_price').text\n",
        "mean_price_word_a = \"平均:\"\n",
        "mean_price_word_b = \"円\"\n",
        "mean_price_word = mean_price_word_a + str(mean_price) + mean_price_word_b\n",
        "print(mean_price_word)\n"
      ],
      "execution_count": null,
      "outputs": []
    },
    {
      "cell_type": "code",
      "metadata": {
        "id": "LXNzdLPWzDR2"
      },
      "source": [
        "#右カラムから値段と作品タイトル取得\n",
        "right_content = soup.find(id = 'right_contents')\n",
        "#作品タイトルリスト\n",
        "item_title_list = []\n",
        "for item_title in right_content.find_all(class_ = 'item_title'):\n",
        "   item_title_strip = item_title.text.replace(\"\\u3000\",\" \").strip()\n",
        "   item_title_list.append(item_title_strip)\n",
        "\n",
        "#作品値段リスト\n",
        "item_price_list = []\n",
        "for item_price in right_content.find_all(class_ = \"item_price\"):\n",
        "   item_price_strip = item_price.text.replace(\"\\u3000\",\" \").strip()\n",
        "   item_price_list.append(item_price_strip)"
      ],
      "execution_count": null,
      "outputs": []
    },
    {
      "cell_type": "code",
      "metadata": {
        "id": "2sWe_nByy99C"
      },
      "source": [
        "#商品リスト\n",
        "test_list = [];\n",
        "for i, p in enumerate(item_price_list):\n",
        "    test_list.append({\n",
        "        \"価格\": p,\n",
        "        \"タイトル\": item_title_list[i],\n",
        "    });\n",
        "\n",
        "#表にする\n",
        "df = pd.DataFrame(data = test_list)\n",
        "css = {\"background-color\": \"green\"}\n",
        "display(df.style.set_properties(subset=\"価格\", **css))"
      ],
      "execution_count": null,
      "outputs": []
    },
    {
      "cell_type": "code",
      "metadata": {
        "id": "Z7nQipUAy3_v"
      },
      "source": [
        "#平均値　LINE送信  \n",
        "LINE_url = \"https://notify-api.line.me/api/notify\"\n",
        "api_token = \"wzq0M8MdrUrAqqGAcF5GYVDMdy1hM632xnOkaKQnfL4\"\n",
        "headers = {\"Authorization\": \"Bearer \" + api_token}\n",
        "\n",
        "message = search_word +'は' + mean_price_word + '\\n' + url\n",
        "payload = {'message': message}\n",
        "r = requests.post(LINE_url, headers=headers, params=payload)"
      ],
      "execution_count": null,
      "outputs": []
    }
  ]
}